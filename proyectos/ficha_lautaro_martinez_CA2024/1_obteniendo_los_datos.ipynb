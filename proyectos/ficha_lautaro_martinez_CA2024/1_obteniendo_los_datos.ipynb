{
 "cells": [
  {
   "cell_type": "markdown",
   "metadata": {},
   "source": [
    "# Obteniendo los datos de Lautaro Martinez en la copa américa 2024"
   ]
  },
  {
   "cell_type": "markdown",
   "metadata": {},
   "source": [
    "Empiezo por importar los módulos que se verán involucrados en esta parte:"
   ]
  },
  {
   "cell_type": "code",
   "execution_count": 2,
   "metadata": {},
   "outputs": [],
   "source": [
    "from statsbombpy import sb\n",
    "from scripts.paths import crear_funcion_directorio\n",
    "from scripts.scrapear_fbref import obtener_df_jugadores\n",
    "from scripts.config import iniciar_notebook\n",
    "iniciar_notebook()"
   ]
  },
  {
   "cell_type": "markdown",
   "metadata": {},
   "source": [
    "## Obteniendo la data de eventos"
   ]
  },
  {
   "cell_type": "markdown",
   "metadata": {},
   "source": [
    "Primero obtengo los datos de competiciones disponibles en statsbomb:"
   ]
  },
  {
   "cell_type": "code",
   "execution_count": 3,
   "metadata": {},
   "outputs": [],
   "source": [
    "df_competiciones = sb.competitions()"
   ]
  },
  {
   "cell_type": "markdown",
   "metadata": {},
   "source": [
    "Ahora miro su estructura y los nombres de las competiciones que están disponibles:"
   ]
  },
  {
   "cell_type": "code",
   "execution_count": 4,
   "metadata": {},
   "outputs": [
    {
     "name": "stdout",
     "output_type": "stream",
     "text": [
      "<class 'pandas.core.frame.DataFrame'>\n",
      "RangeIndex: 74 entries, 0 to 73\n",
      "Data columns (total 12 columns):\n",
      " #   Column                     Non-Null Count  Dtype \n",
      "---  ------                     --------------  ----- \n",
      " 0   competition_id             74 non-null     int64 \n",
      " 1   season_id                  74 non-null     int64 \n",
      " 2   country_name               74 non-null     object\n",
      " 3   competition_name           74 non-null     object\n",
      " 4   competition_gender         74 non-null     object\n",
      " 5   competition_youth          74 non-null     bool  \n",
      " 6   competition_international  74 non-null     bool  \n",
      " 7   season_name                74 non-null     object\n",
      " 8   match_updated              74 non-null     object\n",
      " 9   match_updated_360          56 non-null     object\n",
      " 10  match_available_360        10 non-null     object\n",
      " 11  match_available            74 non-null     object\n",
      "dtypes: bool(2), int64(2), object(8)\n",
      "memory usage: 6.1+ KB\n"
     ]
    }
   ],
   "source": [
    "df_competiciones.info()"
   ]
  },
  {
   "cell_type": "code",
   "execution_count": 5,
   "metadata": {},
   "outputs": [
    {
     "data": {
      "text/plain": [
       "competition_name\n",
       "Champions League           18\n",
       "La Liga                    18\n",
       "FIFA World Cup              8\n",
       "Copa del Rey                3\n",
       "Ligue 1                     3\n",
       "FA Women's Super League     3\n",
       "UEFA Euro                   2\n",
       "1. Bundesliga               2\n",
       "Women's World Cup           2\n",
       "Liga Profesional            2\n",
       "Serie A                     2\n",
       "Premier League              2\n",
       "African Cup of Nations      1\n",
       "Copa America                1\n",
       "Major League Soccer         1\n",
       "FIFA U20 World Cup          1\n",
       "Indian Super league         1\n",
       "North American League       1\n",
       "NWSL                        1\n",
       "UEFA Europa League          1\n",
       "UEFA Women's Euro           1\n",
       "Name: count, dtype: int64"
      ]
     },
     "execution_count": 5,
     "metadata": {},
     "output_type": "execute_result"
    }
   ],
   "source": [
    "df_competiciones.competition_name.value_counts()"
   ]
  },
  {
   "cell_type": "markdown",
   "metadata": {},
   "source": [
    "Me quedo solo con la copa américa:"
   ]
  },
  {
   "cell_type": "code",
   "execution_count": 6,
   "metadata": {},
   "outputs": [
    {
     "data": {
      "text/html": [
       "<div>\n",
       "<style scoped>\n",
       "    .dataframe tbody tr th:only-of-type {\n",
       "        vertical-align: middle;\n",
       "    }\n",
       "\n",
       "    .dataframe tbody tr th {\n",
       "        vertical-align: top;\n",
       "    }\n",
       "\n",
       "    .dataframe thead th {\n",
       "        text-align: right;\n",
       "    }\n",
       "</style>\n",
       "<table border=\"1\" class=\"dataframe\">\n",
       "  <thead>\n",
       "    <tr style=\"text-align: right;\">\n",
       "      <th></th>\n",
       "      <th>competition_id</th>\n",
       "      <th>season_id</th>\n",
       "      <th>country_name</th>\n",
       "      <th>competition_name</th>\n",
       "      <th>competition_gender</th>\n",
       "      <th>competition_youth</th>\n",
       "      <th>competition_international</th>\n",
       "      <th>season_name</th>\n",
       "      <th>match_updated</th>\n",
       "      <th>match_updated_360</th>\n",
       "      <th>match_available_360</th>\n",
       "      <th>match_available</th>\n",
       "    </tr>\n",
       "  </thead>\n",
       "  <tbody>\n",
       "    <tr>\n",
       "      <th>21</th>\n",
       "      <td>223</td>\n",
       "      <td>282</td>\n",
       "      <td>South America</td>\n",
       "      <td>Copa America</td>\n",
       "      <td>male</td>\n",
       "      <td>False</td>\n",
       "      <td>True</td>\n",
       "      <td>2024</td>\n",
       "      <td>2024-07-15T18:00:33.653673</td>\n",
       "      <td>None</td>\n",
       "      <td>None</td>\n",
       "      <td>2024-07-15T18:00:33.653673</td>\n",
       "    </tr>\n",
       "  </tbody>\n",
       "</table>\n",
       "</div>"
      ],
      "text/plain": [
       "    competition_id  season_id   country_name competition_name  \\\n",
       "21             223        282  South America     Copa America   \n",
       "\n",
       "   competition_gender  competition_youth  competition_international  \\\n",
       "21               male              False                       True   \n",
       "\n",
       "   season_name               match_updated match_updated_360  \\\n",
       "21        2024  2024-07-15T18:00:33.653673              None   \n",
       "\n",
       "   match_available_360             match_available  \n",
       "21                None  2024-07-15T18:00:33.653673  "
      ]
     },
     "execution_count": 6,
     "metadata": {},
     "output_type": "execute_result"
    }
   ],
   "source": [
    "df_competiciones[df_competiciones['competition_name'] == 'Copa America']"
   ]
  },
  {
   "cell_type": "markdown",
   "metadata": {},
   "source": [
    "Ahora que conozco su id de competición e id de temporada puedo obtener todos sus datos:"
   ]
  },
  {
   "cell_type": "code",
   "execution_count": 7,
   "metadata": {},
   "outputs": [],
   "source": [
    "datos_copa_america = sb.matches(competition_id=223, season_id=282).sort_values(by='match_date')"
   ]
  },
  {
   "cell_type": "markdown",
   "metadata": {},
   "source": [
    "Del mismo modo paso a ver la estructura:"
   ]
  },
  {
   "cell_type": "code",
   "execution_count": 8,
   "metadata": {},
   "outputs": [
    {
     "name": "stdout",
     "output_type": "stream",
     "text": [
      "<class 'pandas.core.frame.DataFrame'>\n",
      "Index: 32 entries, 31 to 0\n",
      "Data columns (total 22 columns):\n",
      " #   Column                 Non-Null Count  Dtype \n",
      "---  ------                 --------------  ----- \n",
      " 0   match_id               32 non-null     int64 \n",
      " 1   match_date             32 non-null     object\n",
      " 2   kick_off               32 non-null     object\n",
      " 3   competition            32 non-null     object\n",
      " 4   season                 32 non-null     object\n",
      " 5   home_team              32 non-null     object\n",
      " 6   away_team              32 non-null     object\n",
      " 7   home_score             32 non-null     int64 \n",
      " 8   away_score             32 non-null     int64 \n",
      " 9   match_status           32 non-null     object\n",
      " 10  match_status_360       32 non-null     object\n",
      " 11  last_updated           32 non-null     object\n",
      " 12  last_updated_360       0 non-null      object\n",
      " 13  match_week             32 non-null     int64 \n",
      " 14  competition_stage      32 non-null     object\n",
      " 15  stadium                32 non-null     object\n",
      " 16  referee                32 non-null     object\n",
      " 17  home_managers          32 non-null     object\n",
      " 18  away_managers          32 non-null     object\n",
      " 19  data_version           32 non-null     object\n",
      " 20  shot_fidelity_version  32 non-null     object\n",
      " 21  xy_fidelity_version    32 non-null     object\n",
      "dtypes: int64(4), object(18)\n",
      "memory usage: 5.8+ KB\n"
     ]
    }
   ],
   "source": [
    "datos_copa_america.info()"
   ]
  },
  {
   "cell_type": "code",
   "execution_count": 9,
   "metadata": {},
   "outputs": [
    {
     "data": {
      "text/html": [
       "<div>\n",
       "<style scoped>\n",
       "    .dataframe tbody tr th:only-of-type {\n",
       "        vertical-align: middle;\n",
       "    }\n",
       "\n",
       "    .dataframe tbody tr th {\n",
       "        vertical-align: top;\n",
       "    }\n",
       "\n",
       "    .dataframe thead th {\n",
       "        text-align: right;\n",
       "    }\n",
       "</style>\n",
       "<table border=\"1\" class=\"dataframe\">\n",
       "  <thead>\n",
       "    <tr style=\"text-align: right;\">\n",
       "      <th></th>\n",
       "      <th>match_id</th>\n",
       "      <th>match_date</th>\n",
       "      <th>kick_off</th>\n",
       "      <th>competition</th>\n",
       "      <th>season</th>\n",
       "      <th>home_team</th>\n",
       "      <th>away_team</th>\n",
       "      <th>home_score</th>\n",
       "      <th>away_score</th>\n",
       "      <th>match_status</th>\n",
       "      <th>match_status_360</th>\n",
       "      <th>last_updated</th>\n",
       "      <th>last_updated_360</th>\n",
       "      <th>match_week</th>\n",
       "      <th>competition_stage</th>\n",
       "      <th>stadium</th>\n",
       "      <th>referee</th>\n",
       "      <th>home_managers</th>\n",
       "      <th>away_managers</th>\n",
       "      <th>data_version</th>\n",
       "      <th>shot_fidelity_version</th>\n",
       "      <th>xy_fidelity_version</th>\n",
       "    </tr>\n",
       "  </thead>\n",
       "  <tbody>\n",
       "    <tr>\n",
       "      <th>31</th>\n",
       "      <td>3939969</td>\n",
       "      <td>2024-06-21</td>\n",
       "      <td>03:00:00.000</td>\n",
       "      <td>South America - Copa America</td>\n",
       "      <td>2024</td>\n",
       "      <td>Argentina</td>\n",
       "      <td>Canada</td>\n",
       "      <td>2</td>\n",
       "      <td>0</td>\n",
       "      <td>available</td>\n",
       "      <td>unscheduled</td>\n",
       "      <td>2024-07-09T10:26:47.528559</td>\n",
       "      <td>None</td>\n",
       "      <td>1</td>\n",
       "      <td>Group Stage</td>\n",
       "      <td>Mercedes-Benz Stadium</td>\n",
       "      <td>Jesús Valenzuela Sáez</td>\n",
       "      <td>Lionel Sebastián Scaloni</td>\n",
       "      <td>Jesse Marsch</td>\n",
       "      <td>1.1.0</td>\n",
       "      <td>2</td>\n",
       "      <td>2</td>\n",
       "    </tr>\n",
       "    <tr>\n",
       "      <th>30</th>\n",
       "      <td>3939970</td>\n",
       "      <td>2024-06-22</td>\n",
       "      <td>03:00:00.000</td>\n",
       "      <td>South America - Copa America</td>\n",
       "      <td>2024</td>\n",
       "      <td>Peru</td>\n",
       "      <td>Chile</td>\n",
       "      <td>0</td>\n",
       "      <td>0</td>\n",
       "      <td>available</td>\n",
       "      <td>unscheduled</td>\n",
       "      <td>2024-07-07T15:51:25.411244</td>\n",
       "      <td>None</td>\n",
       "      <td>1</td>\n",
       "      <td>Group Stage</td>\n",
       "      <td>AT&amp;T Stadium</td>\n",
       "      <td>Wilton Pereira Sampaio</td>\n",
       "      <td>Jorge Daniel Fossati Lurachi</td>\n",
       "      <td>Ricardo Alberto Gareca Nardi</td>\n",
       "      <td>1.1.0</td>\n",
       "      <td>2</td>\n",
       "      <td>2</td>\n",
       "    </tr>\n",
       "    <tr>\n",
       "      <th>29</th>\n",
       "      <td>3939971</td>\n",
       "      <td>2024-06-23</td>\n",
       "      <td>04:00:00.000</td>\n",
       "      <td>South America - Copa America</td>\n",
       "      <td>2024</td>\n",
       "      <td>Mexico</td>\n",
       "      <td>Jamaica</td>\n",
       "      <td>1</td>\n",
       "      <td>0</td>\n",
       "      <td>available</td>\n",
       "      <td>unscheduled</td>\n",
       "      <td>2024-07-12T19:15:02.637961</td>\n",
       "      <td>None</td>\n",
       "      <td>1</td>\n",
       "      <td>Group Stage</td>\n",
       "      <td>NRG Stadium</td>\n",
       "      <td>Ismail Elfath</td>\n",
       "      <td>Jaime Arturo Lozano Espín</td>\n",
       "      <td>Heimir Hallgrímsson</td>\n",
       "      <td>1.1.0</td>\n",
       "      <td>2</td>\n",
       "      <td>2</td>\n",
       "    </tr>\n",
       "    <tr>\n",
       "      <th>28</th>\n",
       "      <td>3939972</td>\n",
       "      <td>2024-06-23</td>\n",
       "      <td>01:00:00.000</td>\n",
       "      <td>South America - Copa America</td>\n",
       "      <td>2024</td>\n",
       "      <td>Ecuador</td>\n",
       "      <td>Venezuela</td>\n",
       "      <td>1</td>\n",
       "      <td>2</td>\n",
       "      <td>available</td>\n",
       "      <td>unscheduled</td>\n",
       "      <td>2024-07-12T21:31:59.102963</td>\n",
       "      <td>None</td>\n",
       "      <td>1</td>\n",
       "      <td>Group Stage</td>\n",
       "      <td>Levi''s Stadium</td>\n",
       "      <td>Wilmar Alexander Roldán Pérez</td>\n",
       "      <td>Félix Sánchez Bas</td>\n",
       "      <td>Fernando Ariel Batista</td>\n",
       "      <td>1.1.0</td>\n",
       "      <td>2</td>\n",
       "      <td>2</td>\n",
       "    </tr>\n",
       "    <tr>\n",
       "      <th>27</th>\n",
       "      <td>3939974</td>\n",
       "      <td>2024-06-24</td>\n",
       "      <td>01:00:00.000</td>\n",
       "      <td>South America - Copa America</td>\n",
       "      <td>2024</td>\n",
       "      <td>United States</td>\n",
       "      <td>Bolivia</td>\n",
       "      <td>2</td>\n",
       "      <td>0</td>\n",
       "      <td>available</td>\n",
       "      <td>unscheduled</td>\n",
       "      <td>2024-07-10T13:06:41.582507</td>\n",
       "      <td>None</td>\n",
       "      <td>1</td>\n",
       "      <td>Group Stage</td>\n",
       "      <td>AT&amp;T Stadium</td>\n",
       "      <td>Maurizio Mariani</td>\n",
       "      <td>Gregg Berhalter</td>\n",
       "      <td>Antônio Carlos Zago</td>\n",
       "      <td>1.1.0</td>\n",
       "      <td>2</td>\n",
       "      <td>2</td>\n",
       "    </tr>\n",
       "  </tbody>\n",
       "</table>\n",
       "</div>"
      ],
      "text/plain": [
       "    match_id  match_date      kick_off                   competition season  \\\n",
       "31   3939969  2024-06-21  03:00:00.000  South America - Copa America   2024   \n",
       "30   3939970  2024-06-22  03:00:00.000  South America - Copa America   2024   \n",
       "29   3939971  2024-06-23  04:00:00.000  South America - Copa America   2024   \n",
       "28   3939972  2024-06-23  01:00:00.000  South America - Copa America   2024   \n",
       "27   3939974  2024-06-24  01:00:00.000  South America - Copa America   2024   \n",
       "\n",
       "        home_team  away_team  home_score  away_score match_status  \\\n",
       "31      Argentina     Canada           2           0    available   \n",
       "30           Peru      Chile           0           0    available   \n",
       "29         Mexico    Jamaica           1           0    available   \n",
       "28        Ecuador  Venezuela           1           2    available   \n",
       "27  United States    Bolivia           2           0    available   \n",
       "\n",
       "   match_status_360                last_updated last_updated_360  match_week  \\\n",
       "31      unscheduled  2024-07-09T10:26:47.528559             None           1   \n",
       "30      unscheduled  2024-07-07T15:51:25.411244             None           1   \n",
       "29      unscheduled  2024-07-12T19:15:02.637961             None           1   \n",
       "28      unscheduled  2024-07-12T21:31:59.102963             None           1   \n",
       "27      unscheduled  2024-07-10T13:06:41.582507             None           1   \n",
       "\n",
       "   competition_stage                stadium                        referee  \\\n",
       "31       Group Stage  Mercedes-Benz Stadium          Jesús Valenzuela Sáez   \n",
       "30       Group Stage           AT&T Stadium         Wilton Pereira Sampaio   \n",
       "29       Group Stage            NRG Stadium                  Ismail Elfath   \n",
       "28       Group Stage        Levi''s Stadium  Wilmar Alexander Roldán Pérez   \n",
       "27       Group Stage           AT&T Stadium               Maurizio Mariani   \n",
       "\n",
       "                   home_managers                 away_managers data_version  \\\n",
       "31      Lionel Sebastián Scaloni                  Jesse Marsch        1.1.0   \n",
       "30  Jorge Daniel Fossati Lurachi  Ricardo Alberto Gareca Nardi        1.1.0   \n",
       "29     Jaime Arturo Lozano Espín           Heimir Hallgrímsson        1.1.0   \n",
       "28             Félix Sánchez Bas        Fernando Ariel Batista        1.1.0   \n",
       "27               Gregg Berhalter           Antônio Carlos Zago        1.1.0   \n",
       "\n",
       "   shot_fidelity_version xy_fidelity_version  \n",
       "31                     2                   2  \n",
       "30                     2                   2  \n",
       "29                     2                   2  \n",
       "28                     2                   2  \n",
       "27                     2                   2  "
      ]
     },
     "execution_count": 9,
     "metadata": {},
     "output_type": "execute_result"
    }
   ],
   "source": [
    "datos_copa_america.head()"
   ]
  },
  {
   "cell_type": "markdown",
   "metadata": {},
   "source": [
    "Como el foco de este proyecto está en Lautaro Martinez, jugador de la selección Argentina, entonces procedo a quedarme solo con los partidos de dicha selección:"
   ]
  },
  {
   "cell_type": "code",
   "execution_count": 10,
   "metadata": {},
   "outputs": [],
   "source": [
    "df_partidos_argentina = datos_copa_america[(datos_copa_america['home_team'] == 'Argentina') | (datos_copa_america['away_team'] == 'Argentina')]"
   ]
  },
  {
   "cell_type": "markdown",
   "metadata": {},
   "source": [
    "Ahora lo ideal sería ver que contiene la data de eventos para un partido dado, por ejemplo voy a analizar que eventos se midieron para el primer partido de la selección Argentina:"
   ]
  },
  {
   "cell_type": "code",
   "execution_count": 21,
   "metadata": {},
   "outputs": [
    {
     "data": {
      "text/plain": [
       "dict_keys(['starting_xis', 'half_starts', 'passes', 'ball_receipts', 'carrys', 'pressures', 'blocks', 'dribbled_pasts', 'dribbles', 'ball_recoverys', 'shots', 'goal_keepers', 'clearances', 'foul_committeds', 'miscontrols', 'dispossesseds', 'duels', 'foul_wons', 'interceptions', 'half_ends', '50/50s', 'substitutions', 'tactical_shifts', 'shields', 'injury_stoppages', 'referee_ball_drops', 'player_offs', 'player_ons'])"
      ]
     },
     "execution_count": 21,
     "metadata": {},
     "output_type": "execute_result"
    }
   ],
   "source": [
    "sb.events(match_id=df_partidos_argentina.head(1)['match_id'].values[0], split=True).keys()"
   ]
  },
  {
   "cell_type": "markdown",
   "metadata": {},
   "source": [
    "Para efectos de analizar a Lautaro la data de eventos que me interesa analizar se encuentra en los atributos **'shots', 'foul_wons', 'ball_receipts' y 'passes'**. Por lo tanto cuando llegue la hora de guardar todos estos datos solo voy a considerar esos eventos."
   ]
  },
  {
   "cell_type": "markdown",
   "metadata": {},
   "source": [
    "## Obteniendo la data de estadísticas varias"
   ]
  },
  {
   "cell_type": "code",
   "execution_count": 30,
   "metadata": {},
   "outputs": [],
   "source": [
    "df_stats_standard = obtener_df_jugadores('https://fbref.com/es/comps/685/stats/Estadisticas-de-Copa-America')\n",
    "df_stats_shooting = obtener_df_jugadores('https://fbref.com/es/comps/685/shooting/Estadisticas-de-Copa-America')\n",
    "df_stats_gca = obtener_df_jugadores('https://fbref.com/es/comps/685/gca/Estadisticas-de-Copa-America')"
   ]
  },
  {
   "cell_type": "markdown",
   "metadata": {},
   "source": [
    "## Guardando los datos"
   ]
  },
  {
   "cell_type": "code",
   "execution_count": 31,
   "metadata": {},
   "outputs": [],
   "source": [
    "proyectos_dir = crear_funcion_directorio('proyectos')\n",
    "\n",
    "df_stats_standard.to_csv(proyectos_dir('ficha_lautaro_martinez_CA2024','data' ,'raw', 'df_stats_standard.csv'), index=False)\n",
    "df_stats_shooting.to_csv(proyectos_dir('ficha_lautaro_martinez_CA2024','data' ,'raw', 'df_stats_shooting.csv'), index=False)\n",
    "df_stats_gca.to_csv(proyectos_dir('ficha_lautaro_martinez_CA2024','data' ,'raw', 'df_stats_gca.csv'), index=False)"
   ]
  },
  {
   "cell_type": "code",
   "execution_count": 32,
   "metadata": {},
   "outputs": [],
   "source": [
    "atributos_interes = ['shots', 'foul_wons', 'ball_receipts', 'passes']\n",
    "\n",
    "for i, partido in df_partidos_argentina.iterrows():\n",
    "    df_eventos = sb.events(match_id=partido['match_id'], split=True)\n",
    "    for atributo in atributos_interes:\n",
    "        df_eventos[atributo].to_csv(proyectos_dir('ficha_lautaro_martinez_CA2024','data' ,'raw', f'df_eventos_{partido[\"match_id\"]}_{atributo}.csv'), index=False)"
   ]
  }
 ],
 "metadata": {
  "kernelspec": {
   "display_name": "futpy",
   "language": "python",
   "name": "python3"
  },
  "language_info": {
   "codemirror_mode": {
    "name": "ipython",
    "version": 3
   },
   "file_extension": ".py",
   "mimetype": "text/x-python",
   "name": "python",
   "nbconvert_exporter": "python",
   "pygments_lexer": "ipython3",
   "version": "3.11.4"
  }
 },
 "nbformat": 4,
 "nbformat_minor": 2
}
